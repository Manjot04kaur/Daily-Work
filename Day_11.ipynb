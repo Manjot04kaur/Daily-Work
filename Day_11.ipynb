{
  "nbformat": 4,
  "nbformat_minor": 0,
  "metadata": {
    "colab": {
      "provenance": [],
      "authorship_tag": "ABX9TyMY85tGIhLGp2JfTEnjdQ0N",
      "include_colab_link": true
    },
    "kernelspec": {
      "name": "python3",
      "display_name": "Python 3"
    },
    "language_info": {
      "name": "python"
    }
  },
  "cells": [
    {
      "cell_type": "markdown",
      "metadata": {
        "id": "view-in-github",
        "colab_type": "text"
      },
      "source": [
        "<a href=\"https://colab.research.google.com/github/Manjot04kaur/Daily-Work/blob/main/Day_11.ipynb\" target=\"_parent\"><img src=\"https://colab.research.google.com/assets/colab-badge.svg\" alt=\"Open In Colab\"/></a>"
      ]
    },
    {
      "cell_type": "markdown",
      "source": [
        "**Day 11**\n",
        "\n",
        "**Date 19 June 2024**\n",
        "\n",
        "**Daily Report**\n",
        "\n",
        "Today's session was based on some of Method of Numpy and Pandas Library of Python.\n",
        "\n",
        "---\n",
        "**Today's topic covered**\n",
        "\n",
        "---\n",
        "**Pandas**\n",
        "\n",
        "Pandas is a powerful and widely-used open-source library in Python for data manipulation and analysis. It provides data structures and functions needed to work with structured data seamlessly and efficiently.\n",
        "\n",
        "**Key Features of Pandas**\n",
        "1. Data Structures:\n",
        "\n",
        " * Series: A one-dimensional array-like object containing a sequence of values. It is similar to a list or a one-dimensional NumPy array but with labeled axes (index).\n",
        " * DataFrame: A two-dimensional table of data with labeled axes (rows and columns). It can be thought of as a collection of Series objects sharing the same index.\n",
        " * Data Alignment: Automatic alignment of data for arithmetic operations on Series and DataFrame objects, making it easy to manage missing data.\n",
        "\n",
        " * Data Cleaning: Functions for handling missing data, such as filling, replacing, and dropping missing values.\n",
        "\n",
        " * Data Transformation: Tools for reshaping, pivoting, and transforming data, including functions for merging, joining, and concatenating DataFrame objects.\n",
        "\n",
        " * Data Aggregation and Grouping: Powerful group-by functionality to split data into groups, apply functions to each group, and combine the results.\n",
        "\n",
        " * Time Series Handling: Specialized tools for working with time series data, including date range generation and frequency conversion.\n",
        "\n",
        " * Input and Output: Functions for reading and writing data to and from various file formats, including CSV, Excel, SQL databases, and more.\n",
        "\n",
        " * Visualization: Integration with plotting libraries like Matplotlib to provide basic data visualization capabilities directly from DataFrame and Series objects.\n",
        "\n",
        "\n",
        "Some important method available in Pandas Library important for Machine Learning, Artificial Intelligent and Data science."
      ],
      "metadata": {
        "id": "5Hvc_1pHCeR1"
      }
    },
    {
      "cell_type": "code",
      "execution_count": null,
      "metadata": {
        "id": "qOqk3jOaB90_"
      },
      "outputs": [],
      "source": []
    }
  ]
}