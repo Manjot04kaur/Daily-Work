{
  "nbformat": 4,
  "nbformat_minor": 0,
  "metadata": {
    "colab": {
      "provenance": [],
      "authorship_tag": "ABX9TyO45WIlLOfTs1gkGiohfLZh",
      "include_colab_link": true
    },
    "kernelspec": {
      "name": "python3",
      "display_name": "Python 3"
    },
    "language_info": {
      "name": "python"
    }
  },
  "cells": [
    {
      "cell_type": "markdown",
      "metadata": {
        "id": "view-in-github",
        "colab_type": "text"
      },
      "source": [
        "<a href=\"https://colab.research.google.com/github/Manjot04kaur/Daily-Work/blob/main/12.ipynb\" target=\"_parent\"><img src=\"https://colab.research.google.com/assets/colab-badge.svg\" alt=\"Open In Colab\"/></a>"
      ]
    },
    {
      "cell_type": "markdown",
      "source": [
        "Todays topic :\n",
        "* built in function in python\n",
        "* user define function in python\n",
        "* lambda function\n",
        "* list comprehension\n",
        "* dictionary comprehennsion"
      ],
      "metadata": {
        "id": "EIucNRgfcRNi"
      }
    },
    {
      "cell_type": "markdown",
      "source": [
        "Practice Questions"
      ],
      "metadata": {
        "id": "zVABVcbncl9J"
      }
    },
    {
      "cell_type": "code",
      "execution_count": null,
      "metadata": {
        "id": "PoA_BVjchndg",
        "colab": {
          "base_uri": "https://localhost:8080/",
          "height": 53
        },
        "outputId": "43be8761-44cb-4ada-c64c-638919bd51f2"
      },
      "outputs": [
        {
          "name": "stdout",
          "output_type": "stream",
          "text": [
            "Enter string : hello\n"
          ]
        },
        {
          "output_type": "execute_result",
          "data": {
            "text/plain": [
              "'olleh'"
            ],
            "application/vnd.google.colaboratory.intrinsic+json": {
              "type": "string"
            }
          },
          "metadata": {},
          "execution_count": 6
        }
      ],
      "source": [
        "#Reverse the string\n",
        "def reverse_string():\n",
        "  st = input(\"Enter string : \")\n",
        "  return st[::-1]\n",
        "reverse_string()"
      ]
    },
    {
      "cell_type": "code",
      "source": [
        "#Create a list of numbers. Write a function that finds and returns the maximum value in the list without using the built-in max() function.\n",
        "def max(n):\n",
        "  c = n[0]\n",
        "  for x in n:\n",
        "    if x>c:\n",
        "      c = x\n",
        "  return c\n",
        "num = [3,5,2,235,73,3,5]\n",
        "print(max(num))\n"
      ],
      "metadata": {
        "id": "uY7y97gvqs7m",
        "colab": {
          "base_uri": "https://localhost:8080/"
        },
        "outputId": "0e357efd-4d5d-428b-ff47-16dba09f1742"
      },
      "execution_count": null,
      "outputs": [
        {
          "output_type": "stream",
          "name": "stdout",
          "text": [
            "235\n"
          ]
        }
      ]
    },
    {
      "cell_type": "code",
      "source": [
        "#Define a function that accepts a list of integers and returns a new list containing only the even numbers from the original list.\n",
        "def even_number(num):\n",
        "  num1 = []\n",
        "  for x in num:\n",
        "    if x%2==0:\n",
        "      num1.append(x)\n",
        "  return num1\n",
        "num = [23,56,34,9,12,2,78,44]\n",
        "print(even_number(num))"
      ],
      "metadata": {
        "colab": {
          "base_uri": "https://localhost:8080/"
        },
        "id": "HFmbZjJcwal2",
        "outputId": "b4ee26a2-1efe-4580-8bdf-76cadc006d29"
      },
      "execution_count": null,
      "outputs": [
        {
          "output_type": "stream",
          "name": "stdout",
          "text": [
            "[56, 34, 12, 2, 78, 44]\n"
          ]
        }
      ]
    },
    {
      "cell_type": "code",
      "source": [
        "#Implement a Python function to check if a given word is a palindrome (reads the same backward as forward).\n",
        "def palindrom(st):\n",
        "  rev = st[::-1]\n",
        "  if rev == st:\n",
        "    return \"palindrom\"\n",
        "  else:\n",
        "    return \"not palindrom\"\n",
        "st = input(\"Enter a string : \")\n",
        "print(palindrom(st))"
      ],
      "metadata": {
        "colab": {
          "base_uri": "https://localhost:8080/"
        },
        "id": "EyIxqZhRw1Wh",
        "outputId": "79a97cc9-2da5-40b5-976a-20810e88678b"
      },
      "execution_count": null,
      "outputs": [
        {
          "output_type": "stream",
          "name": "stdout",
          "text": [
            "Enter a string : teacher\n",
            "not palindrom\n"
          ]
        }
      ]
    },
    {
      "cell_type": "code",
      "source": [
        "#Create a dictionary with student names as keys and their corresponding ages as values.\n",
        "#Write a function to find and print the names of students who are above a certain age.\n",
        "def student(**n):\n",
        "  for k,v in n.items():\n",
        "    if v>20:\n",
        "      print(k)\n",
        "student(john = 34,harry = 13, wilson = 25)"
      ],
      "metadata": {
        "colab": {
          "base_uri": "https://localhost:8080/"
        },
        "id": "nB0ipUJlxO9h",
        "outputId": "a24aecc0-88bd-4ed4-98e7-e9f4cd6beb43"
      },
      "execution_count": null,
      "outputs": [
        {
          "output_type": "stream",
          "name": "stdout",
          "text": [
            "john\n",
            "wilson\n"
          ]
        }
      ]
    },
    {
      "cell_type": "code",
      "source": [
        "#Develop a Python function that calculates the sum of squares for a given range of numbers.\n",
        "def square(a):\n",
        "  c = 0\n",
        "  for x in range(0,a+1):\n",
        "    c +=x*x\n",
        "  return c\n",
        "print(square(10))"
      ],
      "metadata": {
        "colab": {
          "base_uri": "https://localhost:8080/"
        },
        "id": "CpsKRbscyTZT",
        "outputId": "80c6fb38-6cf5-4038-d6d3-a40f60ad2641"
      },
      "execution_count": null,
      "outputs": [
        {
          "output_type": "stream",
          "name": "stdout",
          "text": [
            "385\n"
          ]
        }
      ]
    },
    {
      "cell_type": "code",
      "source": [
        "#Use a lambda function to filter a list of integers and return a new list containing only the numbers greater than 10.\n",
        "num = lambda x:x>10\n",
        "n = [23,4,6,12,9,56,3]\n",
        "for x in n:\n",
        "  if num(x) == True:\n",
        "    print(x,end = \" \")"
      ],
      "metadata": {
        "colab": {
          "base_uri": "https://localhost:8080/"
        },
        "id": "l-Iyn5Gxz_ox",
        "outputId": "0d4a65e9-72a9-4f9b-8040-2f3399906c61"
      },
      "execution_count": null,
      "outputs": [
        {
          "output_type": "stream",
          "name": "stdout",
          "text": [
            "23 12 56 "
          ]
        }
      ]
    },
    {
      "cell_type": "code",
      "source": [
        "#Create a Python function that accepts a string and counts the occurrences of each character. Return the result as a dictionary.\n",
        "def count(st):\n",
        "  res = {k:st.count(k) for k in st}\n",
        "  return res\n",
        "st = \"paradise\"\n",
        "print(count(st))"
      ],
      "metadata": {
        "colab": {
          "base_uri": "https://localhost:8080/"
        },
        "id": "2RE7U7hh0D9o",
        "outputId": "d71e2182-2c3e-4dd4-96be-49df7b32dbe7"
      },
      "execution_count": null,
      "outputs": [
        {
          "output_type": "stream",
          "name": "stdout",
          "text": [
            "{'p': 1, 'a': 2, 'r': 1, 'd': 1, 'i': 1, 's': 1, 'e': 1}\n"
          ]
        }
      ]
    },
    {
      "cell_type": "code",
      "source": [
        "#Implement a function to calculate the average of a list of numbers without using the built-in sum() and len() functions.\n",
        "def average(num):\n",
        "  c,i = 0,0\n",
        "  for x in num:\n",
        "    c +=x\n",
        "    i+=1\n",
        "  average = c/i\n",
        "  return average\n",
        "num = [12,2,3,4,5,6,7,8]\n",
        "print(average(num)\n",
        ")"
      ],
      "metadata": {
        "colab": {
          "base_uri": "https://localhost:8080/"
        },
        "id": "6IfYliHx7_mp",
        "outputId": "f87eae5f-7c1a-459d-831f-ec342010d5f3"
      },
      "execution_count": null,
      "outputs": [
        {
          "output_type": "stream",
          "name": "stdout",
          "text": [
            "5.875\n"
          ]
        }
      ]
    },
    {
      "cell_type": "code",
      "source": [
        "#.Write a function that checks if a given year is a leap year. A leap year is divisible by 4 but not divisible by 100 unless it is divisible by 400\n",
        "def leap_year(year):\n",
        "  if year%4 == 0 and year%100!=0:\n",
        "    return \"leap year\"\n",
        "  else:\n",
        "    return \"Not leap year\"\n",
        "year = int(input(\"Enter Year : \"))\n",
        "print(leap_year(year))\n"
      ],
      "metadata": {
        "colab": {
          "base_uri": "https://localhost:8080/"
        },
        "id": "awPne_DM9Yva",
        "outputId": "fd20b5d6-a114-4d1b-8de5-d73a39c4cdcf"
      },
      "execution_count": null,
      "outputs": [
        {
          "output_type": "stream",
          "name": "stdout",
          "text": [
            "Enter Year : 2023\n",
            "Not leap year\n"
          ]
        }
      ]
    },
    {
      "cell_type": "code",
      "source": [
        "#Design a function that takes a list of strings and returns a new list with only the strings that have more than 2 characters.\n",
        "def string_cal(lis):\n",
        "  res = [k for k in lis if len(k)>2]\n",
        "  return res\n",
        "lis = [\"res\",'hi',\"yes\",'hr']\n",
        "print(string_cal(lis))\n"
      ],
      "metadata": {
        "colab": {
          "base_uri": "https://localhost:8080/"
        },
        "id": "chnxot3c9c1E",
        "outputId": "03a3c122-f998-4968-b11a-2213588af462"
      },
      "execution_count": null,
      "outputs": [
        {
          "output_type": "stream",
          "name": "stdout",
          "text": [
            "['res', 'yes']\n"
          ]
        }
      ]
    },
    {
      "cell_type": "code",
      "source": [
        "lis = [\"amy\",'john',]"
      ],
      "metadata": {
        "id": "ehUFTjzTATC5"
      },
      "execution_count": null,
      "outputs": []
    }
  ]
}