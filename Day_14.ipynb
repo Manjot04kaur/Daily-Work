{
  "nbformat": 4,
  "nbformat_minor": 0,
  "metadata": {
    "colab": {
      "provenance": [],
      "authorship_tag": "ABX9TyM6y+z94wo8Pt1JARUfKlSs",
      "include_colab_link": true
    },
    "kernelspec": {
      "name": "python3",
      "display_name": "Python 3"
    },
    "language_info": {
      "name": "python"
    }
  },
  "cells": [
    {
      "cell_type": "markdown",
      "metadata": {
        "id": "view-in-github",
        "colab_type": "text"
      },
      "source": [
        "<a href=\"https://colab.research.google.com/github/Manjot04kaur/Daily-Work/blob/main/Day_14.ipynb\" target=\"_parent\"><img src=\"https://colab.research.google.com/assets/colab-badge.svg\" alt=\"Open In Colab\"/></a>"
      ]
    },
    {
      "cell_type": "markdown",
      "source": [
        "**Day 14**\n",
        "\n",
        "**Date 22 June 2024**\n",
        "\n",
        "**Daily Report**\n",
        "\n",
        "Today's training session was based on another deep learning method - Convolutional Neural Network\n",
        "\n",
        "---\n",
        "**Today's topic**\n",
        "\n",
        "---\n",
        "\n",
        "**Convolutional Neural Network**\n",
        "\n",
        "Convolutional Neural Networks (CNNs) are a type of deep learning model commonly used for image and object recognition tasks. They are composed of several layers, including convolutional layers, pooling layers, and fully connected layers.\n",
        "\n",
        "**Convolutional Layer**\n",
        "The first layer of a Convolutional Neural Network is always a Convolutional Layer. Convolutional layers apply a convolution operation to the input, passing the result to the next layer.\n",
        "\n",
        "**Pooling Layer**\n",
        "The goal of the pooling layer is to pull the most significant features from the convoluted matrix.\n",
        "Reduce the dimension of the feature map (convoluted matrix), hence reducing the memory used while training the network\n",
        "\n",
        "Types of Pooling Layer:-\n",
        "* Max Pooling\n",
        "* Average Pooling\n",
        "* Sum pooling\n",
        "\n",
        "**Fully Connected Layer**\n",
        "Fully Connected Layer is used to combine features learned by convolutional and pooling layers.\n",
        "Each neuron in a fully connected layer is connected to every neuron in the previous layer.\n",
        "\n",
        "**Image classification in CNN using Python**\n",
        "\n",
        "Libraries are used:-\n",
        " * Numpy\n",
        " * Tensor Flow\n",
        " * Pytorch\n",
        " * Keras\n",
        " * Matplotlib"
      ],
      "metadata": {
        "id": "C7kGBfVzUu5n"
      }
    },
    {
      "cell_type": "code",
      "source": [],
      "metadata": {
        "id": "viNVLMNNYgiy"
      },
      "execution_count": null,
      "outputs": []
    }
  ]
}