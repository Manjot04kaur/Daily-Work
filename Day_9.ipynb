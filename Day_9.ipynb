{
  "nbformat": 4,
  "nbformat_minor": 0,
  "metadata": {
    "colab": {
      "provenance": [],
      "authorship_tag": "ABX9TyMPg0ZNcx+FYncQyg3WA8xc",
      "include_colab_link": true
    },
    "kernelspec": {
      "name": "python3",
      "display_name": "Python 3"
    },
    "language_info": {
      "name": "python"
    }
  },
  "cells": [
    {
      "cell_type": "markdown",
      "metadata": {
        "id": "view-in-github",
        "colab_type": "text"
      },
      "source": [
        "<a href=\"https://colab.research.google.com/github/Manjot04kaur/Daily-Work/blob/main/Day_9.ipynb\" target=\"_parent\"><img src=\"https://colab.research.google.com/assets/colab-badge.svg\" alt=\"Open In Colab\"/></a>"
      ]
    },
    {
      "cell_type": "markdown",
      "source": [
        "**Day 9**\n",
        "\n",
        "**Date 17 June 2024**\n",
        "\n",
        "**Daily Report**\n",
        "\n",
        "Today's traninig session was based on Exaption Handing, File Handling and some Main module of Python - Random and Math Module.\n",
        "\n",
        "---\n",
        "\n",
        "**Today's Topic covered**\n",
        "\n",
        "---\n",
        "\n",
        "**Exception Handling**\n",
        "\n",
        "Exception handling in Python is a mechanism to respond to runtime errors, preventing the program from crashing and allowing the program to handle errors gracefully. It helps in debugging, maintaining clean code, and providing user-friendly error messages.\n",
        "\n",
        "Key Concepts\n",
        "\n",
        "1. Exception: An exception is an error that occurs during the execution of a program. When an exception is raised, the normal flow of the program is interrupted.\n",
        "2. Try Block: The code that might raise an exception is placed inside a try block.\n",
        "3. Except Block: The code that handles the exception is placed inside an except block.\n",
        "4. Else Block: The code inside the else block is executed if no exceptions are raised.\n",
        "5. Finally Block: The code inside the finally block is executed regardless of whether an exception is raised or not.\n",
        "6. Raise: Used to raise an exception manually.\n",
        "\n",
        "**File Handling**\n",
        "\n",
        "File handling is an essential aspect of programming that involves reading from and writing to files. Python provides built-in functions and modules to handle files, allowing you to create, read, write, and manipulate files in various ways.\n",
        "\n",
        "**File Methods:**\n",
        "\n",
        "* open(): Opens a file and returns a file object.\n",
        "* read(): Reads the entire content of a file.\n",
        "* readline(): Reads a single line from a file.\n",
        "* readlines(): Reads all lines from a file and returns them as a list.\n",
        "* write(): Writes a string to a file.\n",
        "* writelines(): Writes a list of strings to a file.\n",
        "* close(): Closes the file.\n",
        "\n",
        "**Random Module**\n",
        "\n",
        "The random module in Python provides functions to generate random numbers and perform random selections.\n",
        "\n",
        "**Key Functions of the Random Module**\n",
        "1. Generating Random Numbers\n",
        "\n",
        "* random.random(): Returns a random float in the range [0.0, 1.0).\n",
        "* random.randint(a, b): Returns a random integer between a and b, inclusive.\n",
        "* random.uniform(a, b): Returns a random float between a and b.\n",
        "2. Random Choices\n",
        "\n",
        "* random.choice(seq): Returns a random element from the non-empty sequence seq.\n",
        "* random.choices(population, weights=None, k=1): Returns a list of k elements chosen from population with optional weights.\n",
        "* random.sample(population, k): Returns a k-length list of unique elements chosen from population.\n",
        "3. Shuffling and Randomization\n",
        "\n",
        "* random.shuffle(lst): Shuffles the elements of list lst in place.\n",
        "* random.sample(population, k): Returns a k-length list of unique elements chosen from population.\n",
        "4. Seed Control\n",
        "\n",
        "* random.seed(a=None): Initializes the random number generator with a seed value a. Ensures reproducibility of results when the same seed is used\n",
        "\n",
        "**Math Module**\n",
        "\n",
        "The math module in Python provides access to mathematical functions that perform mathematical operations on numerical data. It includes functions for basic arithmetic, trigonometry, logarithms, exponentiation, and more complex operations.\n",
        "\n",
        "**Key Functions of the Math Module**\n",
        "\n",
        "1. Basic Arithmetic Operations\n",
        "* math.sqrt(x): Returns the square root of x.\n",
        "* math.pow(x, y): Returns x raised to the power of y.\n",
        "* math.factorial(x): Returns the factorial of x.\n",
        "2. Trigonometric Functions\n",
        "* math.sin(x), math.cos(x), math.tan(x): Returns the sine, cosine, and tangent of x (in radians).\n",
        "* math.radians(x), math.degrees(x): Convert angles from degrees to radians and vice versa.\n",
        "3. Logarithmic and Exponential Functions\n",
        "* math.log(x, base): Returns the logarithm of x to the given base (default is natural logarithm).\n",
        "* math.exp(x): Returns e raised to the power of x.\n",
        "4. Constants\n",
        "* math.pi: Mathematical constant π (pi).\n",
        "* math.e: Mathematical constant e (base of natural logarithm).\n"
      ],
      "metadata": {
        "id": "2X8BIC000SQR"
      }
    }
  ]
}