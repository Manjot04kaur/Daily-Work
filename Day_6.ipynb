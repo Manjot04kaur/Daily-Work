{
  "nbformat": 4,
  "nbformat_minor": 0,
  "metadata": {
    "colab": {
      "provenance": [],
      "authorship_tag": "ABX9TyOXU0OamwhtyF9b5l/2XgAZ",
      "include_colab_link": true
    },
    "kernelspec": {
      "name": "python3",
      "display_name": "Python 3"
    },
    "language_info": {
      "name": "python"
    }
  },
  "cells": [
    {
      "cell_type": "markdown",
      "metadata": {
        "id": "view-in-github",
        "colab_type": "text"
      },
      "source": [
        "<a href=\"https://colab.research.google.com/github/Manjot04kaur/Daily-Work/blob/main/Day_6.ipynb\" target=\"_parent\"><img src=\"https://colab.research.google.com/assets/colab-badge.svg\" alt=\"Open In Colab\"/></a>"
      ]
    },
    {
      "cell_type": "markdown",
      "source": [
        "**Day 6**\n",
        "\n",
        "**Date 12 June 2024**\n",
        "\n",
        "**Daily Report**\n",
        "\n",
        "Today's topic was based on Python Fuction, Lambda Fuction, Recursive function, functions all categories of function arguments, list comprehension & dictionary comprehension\n",
        "\n",
        "---\n",
        "**Today's topic**\n",
        "\n",
        "---\n",
        "\n",
        "**Functions**\n",
        "\n",
        "In Python, a function is used for specific task and is reusable.\n",
        "\n",
        "```\n",
        "def function_name(arguments):\n",
        "  #code\n",
        "```\n",
        "\n",
        "function calling\n",
        "\n",
        "```\n",
        "variable = function_name(actual argument)\n",
        "```\n",
        "Type of Function:-\n",
        "\n",
        "1. Built-in-function:- These are predefined Functions in python.\n",
        "2. User-defined function:- these are functions created by programmer to perform specific task. They follow a defined structure given above.\n",
        "3. Anonymous Function(Lambda Function):- These are function without name,often used for short, simple operations.\n",
        "4. Recursive Functions:-These functions call themselves within their definition, useful for task that can be divided into similar subtasks.\n",
        "\n",
        "**Argument in Functinos**\n",
        "\n",
        "Arguments are values passed to a function when it is called.\n",
        "1. Positonal Arguments:- These are arguments that are passed to a function in a specific order.\n",
        "2. Keyword Arguments:- These are arguments passed to a function by explicitly naming each parameter and its corresponding value.\n",
        "3. Default Argument:- These are arguments that are assume a default value if no value is provided during the function call.\n",
        "4. Variable-Length Argument:- *args(Non-keyword arguments) allows a function to accept any number of positional arguments.\n",
        "5. kwargs(keyword argument) allows a function to accept any number of keyword arguments.\n",
        "\n",
        "**List Comprehension**\n",
        "\n",
        "List comprehension provides an elegent way a create new lists.\n",
        "\n",
        "```\n",
        "[ expression for item in list]\n",
        "```\n",
        "\n",
        "**Dictionary Comprehension**\n",
        "\n",
        "```\n",
        "{key:value for var in iterable}\n",
        "```\n"
      ],
      "metadata": {
        "id": "0t2gEpqhwfpT"
      }
    }
  ]
}