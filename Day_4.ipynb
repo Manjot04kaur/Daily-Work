{
  "nbformat": 4,
  "nbformat_minor": 0,
  "metadata": {
    "colab": {
      "provenance": [],
      "authorship_tag": "ABX9TyPgeI63kUyynQsHNyOOy9uy",
      "include_colab_link": true
    },
    "kernelspec": {
      "name": "python3",
      "display_name": "Python 3"
    },
    "language_info": {
      "name": "python"
    }
  },
  "cells": [
    {
      "cell_type": "markdown",
      "metadata": {
        "id": "view-in-github",
        "colab_type": "text"
      },
      "source": [
        "<a href=\"https://colab.research.google.com/github/Manjot04kaur/Daily-Work/blob/main/Day_4.ipynb\" target=\"_parent\"><img src=\"https://colab.research.google.com/assets/colab-badge.svg\" alt=\"Open In Colab\"/></a>"
      ]
    },
    {
      "cell_type": "markdown",
      "source": [
        "**Day 4**\n",
        "\n",
        "**Date 10 June 2024**\n",
        "\n",
        "**Daily Report**\n",
        "\n",
        "Today's traning based on immutable bult in data type- string and operators in Python.\n",
        "\n",
        "---\n",
        "\n",
        "**Topic covered in todays lesson**\n",
        "\n",
        "---\n",
        "\n",
        "**String in python**\n",
        "\n",
        "strings are built in data type in python.\n",
        "\n",
        "syntax:-\n",
        "\n",
        "```\n",
        "str_name = \" element \"\n",
        "str_name = ' element '\n",
        "str_name = '''element'''\n",
        "```\n",
        "\n",
        "Given above any method can be used to write a string.\n",
        "\n",
        "**String Method**\n",
        "\n",
        "There are number of String method in python. but here are some important one.\n",
        "\n",
        "* upper() - to convert into uppercase\n",
        "* lower() - to convert into lowercase\n",
        "* capitalize() - to convert first letter into uppercase\n",
        "* title() - to convert all first letters into uppercase\n",
        "* swapcase() - to swap lowercase and uppercase letters\n",
        "* endswith() - to tell whether its end with specific string or not.\n",
        "* center() - to give equal space front front and end of the string\n",
        "* expandtabs() - to give tab spaces\n",
        "* index() - used to find element at given index\n",
        "* find() - used to find index of specific element\n",
        "\n",
        "**operators in python**\n",
        "\n",
        "1. Arithmatics - already done\n",
        "2. Logical Operators\n"
      ],
      "metadata": {
        "id": "-FiOjYAPhrb3"
      }
    },
    {
      "cell_type": "code",
      "execution_count": null,
      "metadata": {
        "id": "VQ-EE034Sufd"
      },
      "outputs": [],
      "source": []
    }
  ]
}