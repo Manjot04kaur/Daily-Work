{
  "nbformat": 4,
  "nbformat_minor": 0,
  "metadata": {
    "colab": {
      "provenance": [],
      "authorship_tag": "ABX9TyMdUh9zbtI5A53FZWluYwqN",
      "include_colab_link": true
    },
    "kernelspec": {
      "name": "python3",
      "display_name": "Python 3"
    },
    "language_info": {
      "name": "python"
    }
  },
  "cells": [
    {
      "cell_type": "markdown",
      "metadata": {
        "id": "view-in-github",
        "colab_type": "text"
      },
      "source": [
        "<a href=\"https://colab.research.google.com/github/Manjot04kaur/Daily-Work/blob/main/Day_7.ipynb\" target=\"_parent\"><img src=\"https://colab.research.google.com/assets/colab-badge.svg\" alt=\"Open In Colab\"/></a>"
      ]
    },
    {
      "cell_type": "markdown",
      "source": [
        "**Day 7**\n",
        "\n",
        "**Date 13 June 2024**\n",
        "\n",
        "**Daily Report**\n",
        "\n",
        "Today's training was based on Object Oriented Programming in Python and one main concept of Object Oriented Programming - classes & Objects.\n",
        "\n",
        "---\n",
        "\n",
        "**Today's Topic Covered**\n",
        "\n",
        "---\n",
        "\n",
        "**Object Oriented Concept**\n",
        "\n",
        "This approach allows us to club together the data and behaviour so that it become easier  to code real world scenarios.\n",
        "\n",
        "**Class & Object**\n",
        "\n",
        "Objects are real world entities and classes are blue print of objects.A class is a classification of certain objects and it is just a descreption of the properites and behaviour of ojects.\n",
        "\n",
        "```\n",
        "class class_name:\n",
        "```\n",
        "```\n",
        "object_name = class_name(attributes)\n",
        "```\n",
        "\n",
        "**Constructor**\n",
        "\n",
        "using --init-- function is used to add attributes in class.\n",
        "This function is invoke automatic when object is created.This function is called a constructor.\n",
        "\n",
        "self is keyword used as a permanent argument in classes to access any attribute.\n",
        "\n",
        "```\n",
        "class class_name:\n",
        "  def __init__(self,arguments):\n",
        "    self.variable = argument\n",
        "  def class_function(self,argument):\n",
        "    #code\n",
        "\n",
        "object = class_name(arguemnts)\n",
        "object.argument\n",
        "object.class_fuction(argument)\n",
        "\n"
      ],
      "metadata": {
        "id": "wcrk9Gim3Pn6"
      }
    },
    {
      "cell_type": "code",
      "execution_count": null,
      "metadata": {
        "id": "uXrb8SeTi73f"
      },
      "outputs": [],
      "source": []
    }
  ]
}