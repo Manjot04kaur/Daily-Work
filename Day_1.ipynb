{
  "nbformat": 4,
  "nbformat_minor": 0,
  "metadata": {
    "colab": {
      "provenance": [],
      "authorship_tag": "ABX9TyMSQlsTm6CfejiHHf4eRQZf",
      "include_colab_link": true
    },
    "kernelspec": {
      "name": "python3",
      "display_name": "Python 3"
    },
    "language_info": {
      "name": "python"
    }
  },
  "cells": [
    {
      "cell_type": "markdown",
      "metadata": {
        "id": "view-in-github",
        "colab_type": "text"
      },
      "source": [
        "<a href=\"https://colab.research.google.com/github/Manjot04kaur/Daily-Work/blob/main/Day_1.ipynb\" target=\"_parent\"><img src=\"https://colab.research.google.com/assets/colab-badge.svg\" alt=\"Open In Colab\"/></a>"
      ]
    },
    {
      "cell_type": "markdown",
      "source": [
        "**Day 1**\n",
        "\n",
        "**Date 6 June 2024**\n",
        "\n",
        "**Daily Report:-**\n",
        "\n",
        "Today's training was based on Introduction of Python programming language. As Python language is important aspect for Machine learning and Artificial Intelligence.\n",
        "\n",
        "\n",
        "---\n",
        "\n",
        "\n",
        "\n",
        "**Today's Topic Covered in Class:-**\n",
        "\n",
        "---\n",
        "\n",
        "**Introduction to python programming language and arithmatic operators:-**\n",
        "1. Python programming language :- Python is good choice for beginners for several reasons -\n",
        "       * easy to learn and readable syntax\n",
        "       * Vast library tools\n",
        "       * flexible language\n",
        "2. IDE for python:- An integrated Development Environment is a software provide for programmers with comprehensive set of tools and features to write, debug and test their codes in a single interface.\n",
        "\n",
        "    Given below are few IDE for python :-\n",
        "        * Pycharm\n",
        "        * Spyder\n",
        "        * IDLE\n",
        "        * Jupyter\n",
        "        * Visual Studio Code\n",
        "        * Google Colab\n",
        "\n",
        "    In this try Google Colab is used as IDE for python\n",
        "\n",
        "3. Numeric Data type in Python:- Given below are some numeric data type in python:-\n",
        "       * integer\n",
        "       * Floats\n",
        "       * Booleans\n",
        "\n",
        "**Variable:-**\n",
        "\n",
        "variable are entities which help us store information and retrieve it later. It can store any type of data like numeric, float, boolean etc.Variable gives data to computer for processing. The type of data contained in variable can be changed at user's will.\n",
        "\n",
        "**Arithmatic Operators:-**\n",
        "\n",
        "1. Basic Arithmatics:-\n",
        "       * Addition (+) operator\n",
        "       * subtraction (-) operator\n",
        "       * Multiplication (*) operator\n",
        "       * Float Division (/) operator\n",
        "       * Floor Division (//) operator\n",
        "2.  Precedence:- Operator Precedence follows the BODMAS rule for python expression. The Precedence of Operators is listed below:-\n",
        "\n",
        "   B - Bracket\n",
        "\n",
        "   O - order\n",
        "\n",
        "   D - Division\n",
        "\n",
        "   M - Multiplication\n",
        "\n",
        "   A - Addditon\n",
        "\n",
        "   S - Subtraction\n",
        "\n",
        "3. Comparison Operators:- These Operators will allow us to compare variables and output a boolean values.Below given are some Comparison Operators:-\n",
        "    * If value of two operands are equal (==)\n",
        "    * If value of two operands are not equal (!=)\n",
        "    * If left operand is greater than right one (>)\n",
        "    * If right operand is greater than left one (<)\n",
        "    * If left operator is greater or equal to right one(>=)\n",
        "    * If right operator is greater or equal to left one(<=)"
      ],
      "metadata": {
        "id": "2kjkfcLQwHrf"
      }
    },
    {
      "cell_type": "code",
      "source": [],
      "metadata": {
        "id": "6F5rcVyNZUG8"
      },
      "execution_count": null,
      "outputs": []
    }
  ]
}