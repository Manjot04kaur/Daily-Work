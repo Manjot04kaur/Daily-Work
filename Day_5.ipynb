{
  "nbformat": 4,
  "nbformat_minor": 0,
  "metadata": {
    "colab": {
      "provenance": [],
      "authorship_tag": "ABX9TyPqTTit36FMG1ZnvLZlpld5",
      "include_colab_link": true
    },
    "kernelspec": {
      "name": "python3",
      "display_name": "Python 3"
    },
    "language_info": {
      "name": "python"
    }
  },
  "cells": [
    {
      "cell_type": "markdown",
      "metadata": {
        "id": "view-in-github",
        "colab_type": "text"
      },
      "source": [
        "<a href=\"https://colab.research.google.com/github/Manjot04kaur/Daily-Work/blob/main/Day_5.ipynb\" target=\"_parent\"><img src=\"https://colab.research.google.com/assets/colab-badge.svg\" alt=\"Open In Colab\"/></a>"
      ]
    },
    {
      "cell_type": "markdown",
      "source": [
        "**Day 5**\n",
        "\n",
        "**Date 11 June 2024**\n",
        "\n",
        "**Daily Report**\n",
        "\n",
        "Today's training was based on Conditional Statements in Python and Iterations in Python.\n",
        "\n",
        "---\n",
        "\n",
        "**Today's topic covered**\n",
        "\n",
        "---\n",
        "\n",
        "**Conditional Statements**\n",
        "\n",
        "There are 4 type of Conditional Statements.\n",
        "\n",
        "1. if statement\n",
        "```\n",
        "if(condition is true):\n",
        "  # statement\n",
        "```\n",
        "2. if else statement\n",
        "```\n",
        "if(condition is true):\n",
        "   # statement\n",
        "else:\n",
        "  # statement\n",
        "```\n",
        "3. if elif statement\n",
        "4. if elif else statement\n",
        "```\n",
        "if(condition):\n",
        "  #statement\n",
        "elif(conditon):\n",
        "  #statement\n",
        ".\n",
        ".\n",
        "else:\n",
        "  #statement\n",
        "```\n",
        "5. nested if\n",
        "```\n",
        "if (condition):\n",
        "   if(condtion):\n",
        "    .\n",
        "    .\n",
        "```\n",
        "\n",
        "**Loops in Python**\n",
        "\n",
        "Loops help to execute the block of code repeatedly.\n",
        "\n",
        "There are mainly two type of loops in Python:-\n",
        "\n",
        "1. for loop:- This loop is used for sequences or any other iterable item. objects that are iterable - list,tuple, tuple, strings, dictionary.\n",
        "  * using Range\n",
        "\n",
        "  ```\n",
        "  for num in range(start,end):\n",
        "  ```\n",
        "  * for list,tuple or string\n",
        "\n",
        "  ```\n",
        "  for x in list,tuple or string:\n",
        "  ```\n",
        "  * for dictionary\n",
        "\n",
        "  ```\n",
        "  for key in dictionary:\n",
        "      # it will print all keys sequentially\n",
        "  ```\n",
        "  ```\n",
        "  for key,value in dict_name.items():\n",
        "     # it will print key and value both\n",
        "  ```\n",
        "\n",
        "  * using in\n",
        "\n",
        "  ```\n",
        "  for x in set,list,tuple:\n",
        "  ```\n",
        "\n",
        "2. while loop: It is used for repeatedly execution of single or grouped statements. This loop will iterate until given condition is no longer met.\n",
        "\n",
        "```\n",
        "while(condition):\n",
        "  # statemets\n",
        "```\n",
        "\n",
        "**Break, Continue and Pass**\n",
        "\n",
        "* Break:- Break out of the current closest enclosing loop.\n",
        "* Continue:- Goes to the top of the closest enclosing loop.\n",
        "* Pass:- do nothing\n"
      ],
      "metadata": {
        "id": "uJElDjGWq66-"
      }
    },
    {
      "cell_type": "code",
      "execution_count": null,
      "metadata": {
        "id": "2QKpCvAKiqRa"
      },
      "outputs": [],
      "source": []
    }
  ]
}