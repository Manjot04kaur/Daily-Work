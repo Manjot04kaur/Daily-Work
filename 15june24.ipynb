{
  "nbformat": 4,
  "nbformat_minor": 0,
  "metadata": {
    "colab": {
      "provenance": [],
      "authorship_tag": "ABX9TyPx7YDIkD8xS68+jhaIFcv2",
      "include_colab_link": true
    },
    "kernelspec": {
      "name": "python3",
      "display_name": "Python 3"
    },
    "language_info": {
      "name": "python"
    }
  },
  "cells": [
    {
      "cell_type": "markdown",
      "metadata": {
        "id": "view-in-github",
        "colab_type": "text"
      },
      "source": [
        "<a href=\"https://colab.research.google.com/github/Manjot04kaur/Daily-Work/blob/main/15june24.ipynb\" target=\"_parent\"><img src=\"https://colab.research.google.com/assets/colab-badge.svg\" alt=\"Open In Colab\"/></a>"
      ]
    },
    {
      "cell_type": "markdown",
      "source": [
        "TODAY'S WORK\n",
        "* abstraction\n",
        "* Encapsulation\n",
        "* getter and setter\n",
        "* Inheritence"
      ],
      "metadata": {
        "id": "7Q3KsvvHGjLL"
      }
    },
    {
      "cell_type": "markdown",
      "source": [
        "**Library Book Management System**\n",
        "   - Create a `Book` class with private attributes `title`, `author`, and `isbn`.\n",
        "   - Implement getter and setter methods for `title` and `author`.\n",
        "   - Implement a getter method for `isbn`."
      ],
      "metadata": {
        "id": "klLcFUdCIykk"
      }
    },
    {
      "cell_type": "code",
      "execution_count": null,
      "metadata": {
        "id": "aeQFSSylCJVt",
        "colab": {
          "base_uri": "https://localhost:8080/"
        },
        "outputId": "54ce338f-0220-4d5f-baeb-ffb8a66bf82d"
      },
      "outputs": [
        {
          "output_type": "stream",
          "name": "stdout",
          "text": [
            "BOOK:\n",
            "Author:  B\n",
            "Title:  A\n",
            "ISBN:  123 \n",
            "\n",
            "BOOK:\n",
            "Author:  D\n",
            "Title:  c\n",
            "ISBN:  456 \n",
            "\n",
            "BOOK:\n",
            "Author:  D\n",
            "Title:  c\n",
            "ISBN:  456 \n",
            "\n"
          ]
        }
      ],
      "source": [
        "class book:\n",
        "  def __init__(self,title,author,isbn):\n",
        "    self.__title = title\n",
        "    self.__author = author\n",
        "    self.__isbn = isbn\n",
        "  def author(self):\n",
        "    return self.__author\n",
        "  def title(self):\n",
        "    return self.__title\n",
        "  def isbn(self):\n",
        "    return self.__isbn\n",
        "class library:\n",
        "  def __init__(self):\n",
        "    self.lis = []\n",
        "  def add(self,b):\n",
        "    self.lis.append(b)\n",
        "  def remove(self,b):\n",
        "    self.lis.remove(b)\n",
        "  def dis(self):\n",
        "    for x in self.lis:\n",
        "      print(x)\n",
        "  def display(self):\n",
        "    for x in self.lis:\n",
        "      print(\"BOOK:\")\n",
        "      print(\"Author: \",x.author())\n",
        "      print(\"Title: \",x.title())\n",
        "      print(\"ISBN: \",x.isbn(),\"\\n\")\n",
        "b1 = book(\"A\",\"B\",123)\n",
        "b2 = book(\"c\",\"D\",456)\n",
        "l = library()\n",
        "l.add(b1)\n",
        "l.add(b2)\n",
        "l.display()\n",
        "l.remove(b1)\n",
        "l.display()\n",
        "\n"
      ]
    },
    {
      "cell_type": "code",
      "source": [
        "class Athlete:\n",
        "    def __init__(self,name,gender):\n",
        "        self.__name=name\n",
        "        self.__gender=gender\n",
        "    def running(self):\n",
        "        if(self.__gender==\"girl\"):\n",
        "            print(\"150mtr running\")\n",
        "        else:\n",
        "            print(\"200mtr running\")\n",
        "a = Athlete(\"Maria\",\"girl\")\n",
        "a.running()"
      ],
      "metadata": {
        "colab": {
          "base_uri": "https://localhost:8080/"
        },
        "id": "hzDs5iFUHOiH",
        "outputId": "68e33f2d-8236-4197-b295-c7e54c300bef"
      },
      "execution_count": null,
      "outputs": [
        {
          "output_type": "stream",
          "name": "stdout",
          "text": [
            "150mtr running\n"
          ]
        }
      ]
    },
    {
      "cell_type": "markdown",
      "source": [
        "**Bank Account Management System**\n",
        "   - Create a `BankAccount` class with private attributes `account_number`, `account_holder`, and `balance`.\n",
        "   - Implement getter and setter methods for `account_number` and `account_holder`.\n",
        "   - Implement a setter method for `balance` that checks if the balance being set is non-negative.\n"
      ],
      "metadata": {
        "id": "OhO6Vv_TIsL9"
      }
    },
    {
      "cell_type": "code",
      "source": [
        "class BankAccount:\n",
        "  def __init__(self,account_number, account_holder,balance):\n",
        "    self.__an = account_number\n",
        "    self.__ah = account_holder\n",
        "    self.__bal = balance\n",
        "\n",
        "  def set_attribute(self,ac_no,balan):\n",
        "    if ac_no%100000==0:\n",
        "      self.__an = ac_no\n",
        "    else:\n",
        "      print(\"Wrong Account number!!\")\n",
        "    if balan >100:\n",
        "      self.__bal = balan\n",
        "    else:\n",
        "      print(\"TO start the account please deposit atleat 100$\")\n",
        "\n",
        "  def get_attribute(self):\n",
        "    print(\"holder: \",self.__ah)\n",
        "    print(\"ACC : \",self.__an)\n",
        "    print(\"Balance : \",self.__bal)\n",
        "\n",
        "  def deposit(self,rupp):\n",
        "    self.__bal +=rupp\n",
        "    print(\"Amount is deposit in account\")\n",
        "\n",
        "  def withdraw(self,rupp):\n",
        "    w = self.__bal - rupp\n",
        "    if w>0:\n",
        "      self.__bal = w\n",
        "    else:\n",
        "      print(\"Do not have enough balance!!\")\n",
        "  def balance(self):\n",
        "    print(\"Balance :\",self.__bal)\n",
        "ac = BankAccount(12345,\"honey\",20000)\n",
        "ac.get_attribute()\n",
        "ac.deposit(670)\n",
        "ac.balance()\n",
        "ac.withdraw(723)\n",
        "ac.balance()\n",
        "\n",
        "\n"
      ],
      "metadata": {
        "colab": {
          "base_uri": "https://localhost:8080/"
        },
        "id": "T3U2LFNLOQew",
        "outputId": "10b7a2ee-bba5-46be-8b97-f31c5836fa7a"
      },
      "execution_count": null,
      "outputs": [
        {
          "output_type": "stream",
          "name": "stdout",
          "text": [
            "holder:  honey\n",
            "ACC :  12345\n",
            "Balance :  20000\n",
            "Amount is deposit in account\n",
            "Balance : 20670\n",
            "Balance : 19947\n"
          ]
        }
      ]
    },
    {
      "cell_type": "markdown",
      "source": [
        "**Employee Management System**\n",
        "   - Create an `Employee` class with private attributes `employee_id`, `name`, `position`, and `salary`.\n",
        "   - Implement getter and setter methods for `position`.\n",
        "   - Implement a setter method for `salary` that ensures the salary being set is positive."
      ],
      "metadata": {
        "id": "jeBdtNviIjdc"
      }
    },
    {
      "cell_type": "code",
      "source": [
        "class employee:\n",
        "  def __init__(self,employee_id, name, position,salary):\n",
        "    self.__id = employee_id\n",
        "    self.__name = name\n",
        "    self.__position = position\n",
        "    self.__sal = salary\n",
        "  def set_attribute(self,s):\n",
        "    if(s>0):\n",
        "      self.__sal = s\n",
        "    else:\n",
        "      print(\"negative salary can't be possible!!\")\n",
        "  def emp_id(self):\n",
        "    return self.__id\n",
        "  def name(self):\n",
        "    return self.__name\n",
        "  def pos(self):\n",
        "    return self.__position\n",
        "  def sal(self):\n",
        "    return self.__sal\n",
        "class department:\n",
        "  def __init__(self):\n",
        "    self.lis = []\n",
        "  def add(self,a):\n",
        "    self.lis.append(a)\n",
        "    print(\"New Employee is added!!\")\n",
        "  def remove(self,id):\n",
        "    for x in self.lis:\n",
        "      if x.emp_id() == id:\n",
        "        self.lis.remove(x)\n",
        "  def display(self):\n",
        "    for x in self.lis:\n",
        "      print(\"Name: \",x.name())\n",
        "      print(\"ID: \",x.emp_id())\n",
        "      print(\"Position: \",x.pos())\n",
        "      print(\"Salary : \",x.sal())\n",
        "\n",
        "d = department()\n",
        "d.add(employee(123,\"john\",\"manager\",30000))\n",
        "d.add(employee(124,\"merry\",\"reception\",10000))\n",
        "d.add(employee(125,\"Raj\",'manager',30000))\n",
        "d.display()\n",
        "d.remove(124)\n",
        "d.remove(123)\n",
        "print(\"after\")\n",
        "d.display()"
      ],
      "metadata": {
        "colab": {
          "base_uri": "https://localhost:8080/"
        },
        "id": "_wh_-YJbU_Jw",
        "outputId": "6989f1e2-35f2-4320-985d-1a94660a2b9e"
      },
      "execution_count": 4,
      "outputs": [
        {
          "output_type": "stream",
          "name": "stdout",
          "text": [
            "New Employee is added!!\n",
            "New Employee is added!!\n",
            "New Employee is added!!\n",
            "Name:  john\n",
            "ID:  123\n",
            "Position:  manager\n",
            "Salary :  30000\n",
            "Name:  merry\n",
            "ID:  124\n",
            "Position:  reception\n",
            "Salary :  10000\n",
            "Name:  Raj\n",
            "ID:  125\n",
            "Position:  manager\n",
            "Salary :  30000\n",
            "after\n",
            "Name:  Raj\n",
            "ID:  125\n",
            "Position:  manager\n",
            "Salary :  30000\n"
          ]
        }
      ]
    },
    {
      "cell_type": "markdown",
      "source": [
        " **Student Record System**\n",
        "   - Create a `Student` class with private attributes `student_id`, `name`, `age`, and `grades` (a list of integers).\n",
        "   - Implement getter and setter methods for `name` and `age`.\n",
        "   - Implement a setter method for `grades` that ensures all grades are within a valid range (e.g., 0-100).\n"
      ],
      "metadata": {
        "id": "dG_cRYUiIPpL"
      }
    },
    {
      "cell_type": "code",
      "source": [
        "class student:\n",
        "  def __init__(self,student_id, name, age,grades):\n",
        "    self.__id = student_id\n",
        "    self.__name = name\n",
        "    self.__age = age\n",
        "    self.__grade = grades\n",
        "  def id(self):\n",
        "    return self.__id\n",
        "  def name(self):\n",
        "    return self.__name\n",
        "  def age(self):\n",
        "    return self.__age\n",
        "  def grade(self):\n",
        "    return self.__grade\n",
        "  def set_name(self,name):\n",
        "    self.__name = name\n",
        "  def set_age(self,age):\n",
        "    self.__age = age\n",
        "  def set_grade(self,grade):\n",
        "    self.__grade.clear()\n",
        "    for x in grade:\n",
        "      if x>0 and x<100:\n",
        "        self.__grade.append(x)\n",
        "s1 = student(123,\"John\",17,[67,78,45,34])\n",
        "s2 = student(124,\"Merry\",18,[78,89,56,78])\n",
        "s1.set_grade([23,67,45,89])\n",
        "s1.grade()\n",
        ""
      ],
      "metadata": {
        "id": "OyHHkanqVKnH",
        "colab": {
          "base_uri": "https://localhost:8080/"
        },
        "outputId": "f9dcc7c5-eadf-4806-fdf5-767ba7d7e38a"
      },
      "execution_count": 8,
      "outputs": [
        {
          "output_type": "execute_result",
          "data": {
            "text/plain": [
              "[23, 67, 45, 89]"
            ]
          },
          "metadata": {},
          "execution_count": 8
        }
      ]
    },
    {
      "cell_type": "markdown",
      "source": [
        "que 5. Online Shopping System\n",
        "\n",
        "Create a Product class with private attributes product_id, name, and price.\n",
        "Implement getter and setter methods for product_id.\n",
        "Implement setter methods for name and price that perform validation (e.g., ensure name is not empty and price is positive).\n"
      ],
      "metadata": {
        "id": "6HrMmU0VIU_l"
      }
    },
    {
      "cell_type": "code",
      "source": [
        "class product:\n",
        "  def __init__(self,product_id,name,price):\n",
        "    self.__id = product_id\n",
        "    self.__name = name\n",
        "    self.__price = price\n",
        "  def set_id(self,id):\n",
        "    self.__id = id\n",
        "  def id(self):\n",
        "    return self.__id\n",
        "  def set_name(self,name):\n",
        "    if len(name)>0:\n",
        "      self.__name = name\n",
        "    else:\n",
        "      print(\"Name is empty!!!\")\n",
        "  def name(self):\n",
        "    return self.__name\n",
        "  def set_price(self,price):\n",
        "    if price>0:\n",
        "      self.__price = price\n",
        "    else:\n",
        "      print(\"Price is Negative!!!\")\n",
        "  def price(self):\n",
        "    return self.__price\n",
        "\n",
        "p1 = product(123,\"Rice\",34)\n",
        "p1.set_name(\"\")\n",
        "p1.name()"
      ],
      "metadata": {
        "colab": {
          "base_uri": "https://localhost:8080/",
          "height": 53
        },
        "id": "frzre8ZrFadz",
        "outputId": "a43cf011-1622-4b31-c27d-f66a3df4f17e"
      },
      "execution_count": 18,
      "outputs": [
        {
          "output_type": "stream",
          "name": "stdout",
          "text": [
            "Name is empty!!!\n"
          ]
        },
        {
          "output_type": "execute_result",
          "data": {
            "text/plain": [
              "'Rice'"
            ],
            "application/vnd.google.colaboratory.intrinsic+json": {
              "type": "string"
            }
          },
          "metadata": {},
          "execution_count": 18
        }
      ]
    },
    {
      "cell_type": "code",
      "source": [],
      "metadata": {
        "id": "x9ObvRkmHfSd"
      },
      "execution_count": null,
      "outputs": []
    }
  ]
}