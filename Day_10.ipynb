{
  "nbformat": 4,
  "nbformat_minor": 0,
  "metadata": {
    "colab": {
      "provenance": [],
      "authorship_tag": "ABX9TyO9mSbqaaqISk1+q0sjwi3/",
      "include_colab_link": true
    },
    "kernelspec": {
      "name": "python3",
      "display_name": "Python 3"
    },
    "language_info": {
      "name": "python"
    }
  },
  "cells": [
    {
      "cell_type": "markdown",
      "metadata": {
        "id": "view-in-github",
        "colab_type": "text"
      },
      "source": [
        "<a href=\"https://colab.research.google.com/github/Manjot04kaur/Daily-Work/blob/main/Day_10.ipynb\" target=\"_parent\"><img src=\"https://colab.research.google.com/assets/colab-badge.svg\" alt=\"Open In Colab\"/></a>"
      ]
    },
    {
      "cell_type": "markdown",
      "source": [
        "**Day 10**\n",
        "\n",
        "**Date 18 June 2024**\n",
        "\n",
        "**Daily Report**\n",
        "\n",
        "Today's training session was based on Python Module - DateTime and Some Methods of Python Library - Numpy\n",
        "\n",
        "---\n",
        "**Today's Topic Covered**\n",
        "\n",
        "---\n",
        "\n",
        "**Date and Time Module**\n",
        "\n",
        "The datetime module in Python provides classes for manipulating dates and times. It offers functionality to work with dates, times, timedeltas (differences between dates or times), time zones, and formatting options.\n",
        "\n",
        "**Key Classes and Functions of the Datetime Module**\n",
        "1. Date Objects\n",
        "\n",
        " * datetime.date(year, month, day): Represents a date (year, month, day).\n",
        " * date.today(): Returns the current local date.\n",
        " * date.strftime(format): Formats a date object into a string using specified format codes.\n",
        "2. Time Objects\n",
        "\n",
        " * datetime.time(hour, minute, second, microsecond): Represents a time (hour, minute, second, microsecond).\n",
        " * time.strftime(format): Formats a time object into a string using specified format codes.\n",
        "3. Datetime Objects\n",
        "\n",
        " * datetime.datetime(year, month, day, hour, minute, second, microsecond): Represents a datetime (date and time).\n",
        " * datetime.now(): Returns the current local datetime.\n",
        " * datetime.strptime(date_string, format): Parses a string into a datetime object based on the format.\n",
        "4. Timedelta Objects\n",
        "\n",
        " * datetime.timedelta(days, seconds, microseconds, milliseconds, minutes, hours, weeks): Represents a duration or difference between two dates or times.\n",
        "\n",
        "**Numpy Library**\n",
        "\n",
        "NumPy (Numerical Python) is a powerful, open-source library in Python used for numerical computations. It provides support for large, multi-dimensional arrays and matrices, along with a collection of mathematical functions to operate on these arrays efficiently. NumPy is fundamental for scientific computing in Python and serves as the foundation for many other libraries like SciPy, Pandas, and Matplotlib.\n",
        "\n",
        "**Key Features of NumPy**\n",
        "1. N-Dimensional Arrays\n",
        "2. Mathematical Functions\n",
        "3. Broadcasting\n",
        "4. Integration with C/C++ and Fortran\n",
        "5. Linear Algebra\n",
        "6. Random Number Generation\n",
        "\n"
      ],
      "metadata": {
        "id": "YRuPyLdY4q0K"
      }
    },
    {
      "cell_type": "code",
      "execution_count": null,
      "metadata": {
        "id": "Iu741kNdjQTn"
      },
      "outputs": [],
      "source": []
    }
  ]
}