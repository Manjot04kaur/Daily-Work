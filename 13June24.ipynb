{
  "nbformat": 4,
  "nbformat_minor": 0,
  "metadata": {
    "colab": {
      "provenance": [],
      "authorship_tag": "ABX9TyP37LMN3lg5nUnVGtHRKGdp",
      "include_colab_link": true
    },
    "kernelspec": {
      "name": "python3",
      "display_name": "Python 3"
    },
    "language_info": {
      "name": "python"
    }
  },
  "cells": [
    {
      "cell_type": "markdown",
      "metadata": {
        "id": "view-in-github",
        "colab_type": "text"
      },
      "source": [
        "<a href=\"https://colab.research.google.com/github/Manjot04kaur/Daily-Work/blob/main/13June24.ipynb\" target=\"_parent\"><img src=\"https://colab.research.google.com/assets/colab-badge.svg\" alt=\"Open In Colab\"/></a>"
      ]
    },
    {
      "cell_type": "code",
      "execution_count": null,
      "metadata": {
        "colab": {
          "base_uri": "https://localhost:8080/"
        },
        "id": "DkVclJY6tEtb",
        "outputId": "1a52a64f-3fbc-4a9b-acf5-050b17bedbfe"
      },
      "outputs": [
        {
          "output_type": "stream",
          "name": "stdout",
          "text": [
            "Company :  hyundai\n",
            "Model:  ABC\n",
            "Year:  1989\n"
          ]
        }
      ],
      "source": [
        "class car:\n",
        "  def __init__(self,make,model,year):\n",
        "    self.make = make\n",
        "    self.model = model\n",
        "    self.year = year\n",
        "mod1 = car(\"hyundai\",'ABC','1989')\n",
        "print(\"Company : \",mod1.make)\n",
        "print(\"Model: \",mod1.model)\n",
        "print(\"Year: \",mod1.year)"
      ]
    },
    {
      "cell_type": "code",
      "source": [
        "class person:\n",
        "  def __init__(self,name,age):\n",
        "    self.name = name\n",
        "    self.age = age\n",
        "  def greeting(self):\n",
        "    print(\"Hello, my name is \",self.name,\" .I am \",self.age,\" years old.\")\n",
        "per1 = person(\"John\",25)\n",
        "per1.greeting()"
      ],
      "metadata": {
        "colab": {
          "base_uri": "https://localhost:8080/"
        },
        "id": "RRF29dE16WtW",
        "outputId": "a61b978b-b7df-4956-f8d0-5a7705152096"
      },
      "execution_count": null,
      "outputs": [
        {
          "output_type": "stream",
          "name": "stdout",
          "text": [
            "Hello, my name is  John  .I am  25  years old.\n"
          ]
        }
      ]
    },
    {
      "cell_type": "code",
      "source": [
        "class rectangle:\n",
        "  def __init__(self,length,width):\n",
        "    self.l = length\n",
        "    self.w = width\n",
        "  def Area(self):\n",
        "    print(self.l * self.w)\n",
        "rec = rectangle(20,10)\n",
        "rec.Area()\n"
      ],
      "metadata": {
        "colab": {
          "base_uri": "https://localhost:8080/"
        },
        "id": "j0fpynTE7CGN",
        "outputId": "a7b7fb16-8f6d-44fc-e56c-ea7db0a7b6dc"
      },
      "execution_count": null,
      "outputs": [
        {
          "output_type": "stream",
          "name": "stdout",
          "text": [
            "200\n"
          ]
        }
      ]
    },
    {
      "cell_type": "code",
      "source": [
        "class student:\n",
        "  def __init__(self,name,grade):\n",
        "    self.name = name\n",
        "    self.grade = grade\n",
        "  def average_grade(self):\n",
        "    print(\"average grade : \",sum(self.grade)/len(self.grade))\n",
        "num = [56,89,67,90]\n",
        "st = student(\"John\",num)\n",
        "print(\"John: \")\n",
        "st.average_grade()"
      ],
      "metadata": {
        "colab": {
          "base_uri": "https://localhost:8080/"
        },
        "id": "eMaiOFm072FH",
        "outputId": "c39019e6-274a-413f-d8bb-48e466bd2b1a"
      },
      "execution_count": null,
      "outputs": [
        {
          "output_type": "stream",
          "name": "stdout",
          "text": [
            "John: \n",
            "average grade :  75.5\n"
          ]
        }
      ]
    },
    {
      "cell_type": "code",
      "source": [
        "class book:\n",
        "  def __init__(self,title,author,pages):\n",
        "    self.title = title\n",
        "    self.author = author\n",
        "    self.pages = pages\n",
        "  def display(self):\n",
        "    print(\"Title : \",self.title.title(),\"\\nAuthor: \",self.author,\"\\nPages : \",self.pages)\n",
        "b1 = book(\"Nature\",\"John legend\",289)\n",
        "b1.display()\n"
      ],
      "metadata": {
        "colab": {
          "base_uri": "https://localhost:8080/"
        },
        "id": "kWPGlRex9G0N",
        "outputId": "76da87a3-dfce-4646-fc90-e60b0e80fd4c"
      },
      "execution_count": null,
      "outputs": [
        {
          "output_type": "stream",
          "name": "stdout",
          "text": [
            "Title :  Nature \n",
            "Author:  John legend \n",
            "Pages :  289\n"
          ]
        }
      ]
    },
    {
      "cell_type": "code",
      "source": [
        "class dog:\n",
        "  def __init__(self,name,breed):\n",
        "    self.name = name\n",
        "    self.breed = breed\n",
        "  def bark(self):\n",
        "    print(\"Bark!!\")\n",
        "d1 = dog(\"Tiger\",\"ABC\")\n",
        "d1.bark()"
      ],
      "metadata": {
        "colab": {
          "base_uri": "https://localhost:8080/"
        },
        "id": "yDzLfiRM9Sns",
        "outputId": "d485edde-f5bc-41bf-93d4-b53315e55b4e"
      },
      "execution_count": null,
      "outputs": [
        {
          "output_type": "stream",
          "name": "stdout",
          "text": [
            "Bark!!\n"
          ]
        }
      ]
    },
    {
      "cell_type": "code",
      "source": [
        "class BankAccount:\n",
        "  def __init__(self,account_no,balance):\n",
        "    self.acc = account_no\n",
        "    self.bal = balance\n",
        "\n",
        "  def deposit(self,dep):\n",
        "    self.bal = self.bal + dep\n",
        "\n",
        "  def withdaw(self,w):\n",
        "    self.bal = self.bal - w\n",
        "\n",
        "  def display(self):\n",
        "    print(\"Balance : \",self.bal)\n",
        "\n",
        "bank = BankAccount(123456,20000)\n",
        "bank.deposit(10000)\n",
        "bank.display()\n",
        "bank.withdaw(5000)\n",
        "bank.display()"
      ],
      "metadata": {
        "colab": {
          "base_uri": "https://localhost:8080/"
        },
        "id": "jZ6_FB4G9aX3",
        "outputId": "3e1dc674-93cb-45a8-bb72-00a0935ddf08"
      },
      "execution_count": null,
      "outputs": [
        {
          "output_type": "stream",
          "name": "stdout",
          "text": [
            "Balance :  30000\n",
            "Balance :  25000\n"
          ]
        }
      ]
    },
    {
      "cell_type": "code",
      "source": [
        "class laptop:\n",
        "  def __init__(self,brand,price):\n",
        "    self.brd = brand\n",
        "    self.pr = price\n",
        "\n",
        "  def discount(self):\n",
        "    dis = 10\n",
        "    price = self.pr - self.pr*10/100\n",
        "    print(price)\n",
        "mob1 = laptop(\"Apple\",50000)\n",
        "mob1.discount()"
      ],
      "metadata": {
        "colab": {
          "base_uri": "https://localhost:8080/"
        },
        "id": "yjRVbiTU_61s",
        "outputId": "43c92109-08df-4b45-963d-5267088be3d5"
      },
      "execution_count": null,
      "outputs": [
        {
          "output_type": "stream",
          "name": "stdout",
          "text": [
            "45000.0\n"
          ]
        }
      ]
    },
    {
      "cell_type": "code",
      "source": [
        "class employee:\n",
        "  def __init__(self,name,salary):\n",
        "    self.name = name\n",
        "    self.sal = salary\n",
        "  def display(self,rais):\n",
        "    self.sal += rais\n",
        "  def dis(self):\n",
        "    print(\"Salary : \",self.sal)\n",
        "em1 = employee(\"John\",40000)\n",
        "em1.dis()\n",
        "em1.display(5600)\n",
        "em1.dis()\n"
      ],
      "metadata": {
        "colab": {
          "base_uri": "https://localhost:8080/"
        },
        "id": "04i_OlN-_r0h",
        "outputId": "08b49962-0417-4698-d708-366e693222a4"
      },
      "execution_count": null,
      "outputs": [
        {
          "output_type": "stream",
          "name": "stdout",
          "text": [
            "Salary :  40000\n",
            "Salary :  45600\n"
          ]
        }
      ]
    },
    {
      "cell_type": "code",
      "source": [
        "class point:\n",
        "  def __init__(self,x,y):\n",
        "    self.x = x\n",
        "    self.y = y\n",
        "\n",
        "  def distance(self,q_point):\n",
        "    distance = ((self.x - q_point.x)**2 + (self.y - q_point.y)**2)**0.5\n",
        "    return distance\n",
        "\n",
        "p = point(4,5)\n",
        "q = point(6,7)\n",
        "p.distance(q)\n"
      ],
      "metadata": {
        "colab": {
          "base_uri": "https://localhost:8080/"
        },
        "id": "JFumCO41CGGS",
        "outputId": "57fbe84a-b099-4812-ec0a-ee8c256e1efe"
      },
      "execution_count": null,
      "outputs": [
        {
          "output_type": "execute_result",
          "data": {
            "text/plain": [
              "2.8284271247461903"
            ]
          },
          "metadata": {},
          "execution_count": 4
        }
      ]
    },
    {
      "cell_type": "code",
      "source": [
        "class movie:\n",
        "  def __init__(self,name,director,year):\n",
        "    self.name = name\n",
        "    self.director = director\n",
        "    self.year = year\n",
        "\n",
        "  def display(self):\n",
        "    print(\"Movie Name : \",self.name,\"\\nDirector : \",self.director,\"\\nRelease Year : \",self.year)\n",
        "\n",
        "m1 = movie(\"Avengers\",\"Peter\",2012)\n",
        "m1.display()"
      ],
      "metadata": {
        "colab": {
          "base_uri": "https://localhost:8080/"
        },
        "id": "cW8A1hgnEnBJ",
        "outputId": "e03b89cd-7e7b-4aaf-c6f2-4bcf22a20ee6"
      },
      "execution_count": null,
      "outputs": [
        {
          "output_type": "stream",
          "name": "stdout",
          "text": [
            "Movie Name :  Avengers \n",
            "Director :  Peter \n",
            "Release Year :  2012\n"
          ]
        }
      ]
    },
    {
      "cell_type": "code",
      "source": [
        "class product:\n",
        "  def __init__(self,name,price):\n",
        "    self.name = name\n",
        "    self.price = price\n",
        "\n",
        "  def final_price(self):\n",
        "    tax = 2\n",
        "    f_price = self.price + self.price * tax/100\n",
        "    return f_price\n",
        "\n",
        "p = product(\"rice\",45)\n",
        "p.final_price()"
      ],
      "metadata": {
        "colab": {
          "base_uri": "https://localhost:8080/"
        },
        "id": "9oNyKk_kJej_",
        "outputId": "5fc4d852-d77b-4a0c-bf4c-3fed13b5b86e"
      },
      "execution_count": null,
      "outputs": [
        {
          "output_type": "execute_result",
          "data": {
            "text/plain": [
              "45.9"
            ]
          },
          "metadata": {},
          "execution_count": 5
        }
      ]
    },
    {
      "cell_type": "code",
      "source": [
        "class player:\n",
        "  def __init__(self,name,score):\n",
        "    self.name = name\n",
        "    self.score = score\n",
        "\n",
        "  def update(self,new_score):\n",
        "    self.score += new_score\n",
        "    return self.score\n",
        "\n",
        "p = player(\"John\",78)\n",
        "p.update(10)\n"
      ],
      "metadata": {
        "id": "ARhvdcKaJray",
        "colab": {
          "base_uri": "https://localhost:8080/"
        },
        "outputId": "b076f61f-4868-4ac4-88be-2642b076f70b"
      },
      "execution_count": null,
      "outputs": [
        {
          "output_type": "execute_result",
          "data": {
            "text/plain": [
              "88"
            ]
          },
          "metadata": {},
          "execution_count": 6
        }
      ]
    },
    {
      "cell_type": "code",
      "source": [
        "class House:\n",
        "  def __init__(self,address,no_of_room):\n",
        "    self.address = address\n",
        "    self.no = no_of_room\n",
        "\n",
        "  def display(self):\n",
        "    print(\"Address: \",self.address,\"\\nNumber of Room: \",self.no)\n",
        "\n",
        "h = House(\"#123 house no,21 street ABC\",5)\n",
        "h.display()"
      ],
      "metadata": {
        "colab": {
          "base_uri": "https://localhost:8080/"
        },
        "id": "pMxrREJN1FQA",
        "outputId": "ab7c35af-5863-40ec-b511-e1f598881af8"
      },
      "execution_count": null,
      "outputs": [
        {
          "output_type": "stream",
          "name": "stdout",
          "text": [
            "Address:  #123 house no,21 street ABC \n",
            "Number of Room:  5\n"
          ]
        }
      ]
    },
    {
      "cell_type": "code",
      "source": [
        "class shape:\n",
        "  def __init__(self,color,filled):\n",
        "    self.color = color\n",
        "    self.filled = filled\n",
        "\n",
        "  def properties(self):\n",
        "      print(\"color: \",self.color,\"\\nFilled : \",self.filled)\n",
        "\n",
        "s = shape(\"red\",True)\n",
        "s.properties()"
      ],
      "metadata": {
        "colab": {
          "base_uri": "https://localhost:8080/"
        },
        "id": "OXMOGjYL1wKF",
        "outputId": "e156bf90-d688-4434-d02a-a33f0e764de7"
      },
      "execution_count": null,
      "outputs": [
        {
          "output_type": "stream",
          "name": "stdout",
          "text": [
            "color:  red \n",
            "Filled :  True\n"
          ]
        }
      ]
    },
    {
      "cell_type": "markdown",
      "source": [
        "# Practice Question"
      ],
      "metadata": {
        "id": "UboepCl73ERX"
      }
    },
    {
      "cell_type": "code",
      "source": [
        "class person:\n",
        "  def __init__(self,name,age):\n",
        "    self.name = name\n",
        "    self.age  = age\n",
        "  def compare(self,sec):\n",
        "    if(self.age >sec.age):\n",
        "      print(f\"{sec.name} is younger than {self.name}.\")\n",
        "    elif(self.age<sec.age):\n",
        "      print(f\"{sec.name} is older than {self.name}\")\n",
        "    else:\n",
        "      print(f\"{sec.name} is same age as {self.name}\")\n",
        "\n",
        "p1 = person(\"John\",25)\n",
        "p2 = person(\"Peter\",35)\n",
        "p3 = person(\"Marco\",25)\n",
        "p4 = person(\"Harry\",17)\n",
        "p1.compare(p2)\n",
        "p1.compare(p3)\n",
        "p1.compare(p4)"
      ],
      "metadata": {
        "colab": {
          "base_uri": "https://localhost:8080/"
        },
        "id": "uqYIrUd53D4l",
        "outputId": "91f1acf7-009d-4b1c-8f74-78c202648987"
      },
      "execution_count": null,
      "outputs": [
        {
          "output_type": "stream",
          "name": "stdout",
          "text": [
            "Peter is older than John\n",
            "Marco is same age as John\n",
            "Harry is younger than John.\n"
          ]
        }
      ]
    },
    {
      "cell_type": "code",
      "source": [
        "class calculator:\n",
        "  def __init__(self,x,y):\n",
        "    self.x = x\n",
        "    self.y = y\n",
        "  def add(self):\n",
        "    return self.x+self.y\n",
        "  def subtract(self):\n",
        "    return self.x - self.y\n",
        "  def multiply(self):\n",
        "    return self.x*self.y\n",
        "  def divide(self):\n",
        "    return self.x/self.y\n",
        "\n",
        "p = calculator(20,4)\n",
        "print(\"Addition: \",p.add())\n",
        "print(\"Subtraction: \",p.subtract())\n",
        "print(\"Multiply: \",p.multiply())\n",
        "print(\"Divide: \",p.divide())"
      ],
      "metadata": {
        "colab": {
          "base_uri": "https://localhost:8080/"
        },
        "id": "HTMYYra02wbZ",
        "outputId": "8bef8c67-5846-46f1-dd43-4b3d724c1807"
      },
      "execution_count": null,
      "outputs": [
        {
          "output_type": "stream",
          "name": "stdout",
          "text": [
            "Addition:  24\n",
            "Subtraction:  16\n",
            "Multiply:  80\n",
            "Divide:  5.0\n"
          ]
        }
      ]
    },
    {
      "cell_type": "code",
      "source": [
        "class number:\n",
        "  def __init__(self,num):\n",
        "    self.num = num\n",
        "  def ones(self):\n",
        "    if(self.num > 0):\n",
        "      return self.num\n",
        "    else:\n",
        "      return 0\n",
        "  def threes(self):\n",
        "    if(self.num>0):\n",
        "      return self.num//3\n",
        "    else:\n",
        "      return 0\n",
        "  def nine(self):\n",
        "    if(self.num>0):\n",
        "      return self.num//9\n",
        "    else:\n",
        "      return 0\n",
        "  def check(self):\n",
        "    print(\"  ones: \",self.ones())\n",
        "    print(\"  threes: \",self.threes())\n",
        "    print(\"  Nine: \",self.nine())\n",
        "n1 = number(5)\n",
        "print(\"Number = 5\")\n",
        "n1.check()\n",
        "n2 = number(45)\n",
        "print(\"Number: 45\")\n",
        "n2.check()\n"
      ],
      "metadata": {
        "colab": {
          "base_uri": "https://localhost:8080/"
        },
        "id": "OnuiD0wg5x2w",
        "outputId": "63137516-59b9-46e6-f907-90cf6b3fb816"
      },
      "execution_count": null,
      "outputs": [
        {
          "output_type": "stream",
          "name": "stdout",
          "text": [
            "Number = 5\n",
            "  ones:  5\n",
            "  threes:  1\n",
            "  Nine:  0\n",
            "Number: 45\n",
            "  ones:  45\n",
            "  threes:  15\n",
            "  Nine:  5\n"
          ]
        }
      ]
    },
    {
      "cell_type": "code",
      "source": [
        "class user:\n",
        "  c = 0\n",
        "  def __init__(self):\n",
        "    pass\n",
        "    user.c +=1\n",
        "u1 = user()\n",
        "u2 = user()\n",
        "u3 = user()\n",
        "print(user.c)"
      ],
      "metadata": {
        "colab": {
          "base_uri": "https://localhost:8080/"
        },
        "id": "iXThlZaR62O-",
        "outputId": "95f7697d-e14c-4982-8d7f-24ecde071819"
      },
      "execution_count": null,
      "outputs": [
        {
          "output_type": "stream",
          "name": "stdout",
          "text": [
            "3\n"
          ]
        }
      ]
    },
    {
      "cell_type": "code",
      "source": [],
      "metadata": {
        "id": "sb6dEz_W63Nb"
      },
      "execution_count": null,
      "outputs": []
    }
  ]
}