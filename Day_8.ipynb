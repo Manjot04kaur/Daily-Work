{
  "nbformat": 4,
  "nbformat_minor": 0,
  "metadata": {
    "colab": {
      "provenance": [],
      "authorship_tag": "ABX9TyPlpMfAFHbiC70sG/XkOp2+",
      "include_colab_link": true
    },
    "kernelspec": {
      "name": "python3",
      "display_name": "Python 3"
    },
    "language_info": {
      "name": "python"
    }
  },
  "cells": [
    {
      "cell_type": "markdown",
      "metadata": {
        "id": "view-in-github",
        "colab_type": "text"
      },
      "source": [
        "<a href=\"https://colab.research.google.com/github/Manjot04kaur/Daily-Work/blob/main/Day_8.ipynb\" target=\"_parent\"><img src=\"https://colab.research.google.com/assets/colab-badge.svg\" alt=\"Open In Colab\"/></a>"
      ]
    },
    {
      "cell_type": "markdown",
      "source": [
        "**Day 8**\n",
        "\n",
        "**Date 15 June 2024**\n",
        "\n",
        "**Daily Report**\n",
        "\n",
        "Today's training was based on Object Oriented Concept - Abstraction and Inheritence.\n",
        "\n",
        "---\n",
        "\n",
        "**Today's topic**\n",
        "\n",
        "---\n",
        "\n",
        "**Abstraction**\n",
        "\n",
        "The ability to use something without having to know the detail of how it is working is called as abstraction.\n",
        "\n",
        "Abstraction is needed to prevent access to sensitive data.\n",
        "\n",
        "**Data Access**\n",
        "\n",
        "* Public data access:- public data can be access and modify easily.\n",
        "* Private data:- In pyhton using( __ ) in front of arrtribute, it become private.\n",
        "it doesnt means it can't access but not easily as Python convert attribute into _class_name__Attribute name\n",
        "\n",
        "**Getter and Setter**\n",
        "\n",
        "To have a error free way of accessing and updating private variables, we create specific methods for this.\n",
        "\n",
        "* The methods which are meant to set a value to a private variable are called setter methods.\n",
        "\n",
        "* The methods meant to access private variable values are called getter methods.\n",
        "\n",
        "**Inheritence**\n",
        "\n",
        "Inheritance is a fundamental concept in object-oriented programming (OOP) that allows one class (child or subclass) to inherit the properties and methods of another class (parent or superclass). It promotes code reusability by enabling a new class to take on the attributes and behaviors of an existing class.\n",
        "\n",
        "**Key Concepts**\n",
        "\n",
        "1.  Parent Class (Superclass):\n",
        "\n",
        "* Also known as a base class or superclass.\n",
        "* It's the class whose attributes and methods are inherited by another class.\n",
        "2. Child Class (Subclass):\n",
        "\n",
        "* Also known as a derived class or subclass.\n",
        "* It inherits attributes and methods from its parent class and can also have its own additional attributes and methods.\n",
        "3. Inheritance Syntax in Python:\n",
        "\n",
        "* In Python, inheritance is declared by specifying the parent class(es) in the definition of a child class.\n",
        "* Syntax: class ChildClassName(ParentClassName):\n",
        "\n",
        "**Types of Inheritance:**\n",
        "\n",
        "* Single Inheritance: A child class inherits from only one parent class.\n",
        "* Multiple Inheritance: A child class inherits from multiple parent classes.\n",
        "* Multilevel Inheritance: One class is derived from another, which is itself derived from another class.\n",
        "* Hierarchical Inheritance: Multiple child classes inherit from the same parent class.\n",
        "* Hybrid Inheritance: Combination of two or more types of inheritance.\n",
        "\n"
      ],
      "metadata": {
        "id": "1Gb5jluf8Z-G"
      }
    }
  ]
}